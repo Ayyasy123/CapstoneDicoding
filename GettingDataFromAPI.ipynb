{
  "nbformat": 4,
  "nbformat_minor": 0,
  "metadata": {
    "colab": {
      "name": "GettingDataFromAPI.ipynb",
      "provenance": [],
      "collapsed_sections": []
    },
    "kernelspec": {
      "name": "python3",
      "display_name": "Python 3"
    },
    "language_info": {
      "name": "python"
    }
  },
  "cells": [
    {
      "cell_type": "markdown",
      "metadata": {
        "id": "IB-Kdw1uGqaI"
      },
      "source": [
        "**Installing spotipy library**"
      ]
    },
    {
      "cell_type": "code",
      "metadata": {
        "colab": {
          "base_uri": "https://localhost:8080/"
        },
        "id": "nAXpuOIi7Qch",
        "outputId": "d8974e69-70a6-492c-e459-c6fa83f4966d"
      },
      "source": [
        "!pip install spotipy"
      ],
      "execution_count": 1,
      "outputs": [
        {
          "output_type": "stream",
          "name": "stdout",
          "text": [
            "Collecting spotipy\n",
            "  Downloading spotipy-2.19.0-py3-none-any.whl (27 kB)\n",
            "Collecting requests>=2.25.0\n",
            "  Downloading requests-2.26.0-py2.py3-none-any.whl (62 kB)\n",
            "\u001b[K     |████████████████████████████████| 62 kB 787 kB/s \n",
            "\u001b[?25hRequirement already satisfied: six>=1.15.0 in /usr/local/lib/python3.7/dist-packages (from spotipy) (1.15.0)\n",
            "Collecting urllib3>=1.26.0\n",
            "  Downloading urllib3-1.26.7-py2.py3-none-any.whl (138 kB)\n",
            "\u001b[K     |████████████████████████████████| 138 kB 14.9 MB/s \n",
            "\u001b[?25hRequirement already satisfied: idna<4,>=2.5 in /usr/local/lib/python3.7/dist-packages (from requests>=2.25.0->spotipy) (2.10)\n",
            "Requirement already satisfied: certifi>=2017.4.17 in /usr/local/lib/python3.7/dist-packages (from requests>=2.25.0->spotipy) (2021.10.8)\n",
            "Requirement already satisfied: charset-normalizer~=2.0.0 in /usr/local/lib/python3.7/dist-packages (from requests>=2.25.0->spotipy) (2.0.8)\n",
            "Installing collected packages: urllib3, requests, spotipy\n",
            "  Attempting uninstall: urllib3\n",
            "    Found existing installation: urllib3 1.24.3\n",
            "    Uninstalling urllib3-1.24.3:\n",
            "      Successfully uninstalled urllib3-1.24.3\n",
            "  Attempting uninstall: requests\n",
            "    Found existing installation: requests 2.23.0\n",
            "    Uninstalling requests-2.23.0:\n",
            "      Successfully uninstalled requests-2.23.0\n",
            "\u001b[31mERROR: pip's dependency resolver does not currently take into account all the packages that are installed. This behaviour is the source of the following dependency conflicts.\n",
            "google-colab 1.0.0 requires requests~=2.23.0, but you have requests 2.26.0 which is incompatible.\n",
            "datascience 0.10.6 requires folium==0.2.1, but you have folium 0.8.3 which is incompatible.\u001b[0m\n",
            "Successfully installed requests-2.26.0 spotipy-2.19.0 urllib3-1.26.7\n"
          ]
        }
      ]
    },
    {
      "cell_type": "markdown",
      "metadata": {
        "id": "8vXDSV8SG0WF"
      },
      "source": [
        "**Import Library**\n",
        "<br />Mengimport library yang digunakan"
      ]
    },
    {
      "cell_type": "code",
      "metadata": {
        "id": "0wuIy-nB7tCP"
      },
      "source": [
        "import spotipy\n",
        "from spotipy.oauth2 import SpotifyClientCredentials\n",
        "import pandas as pd\n",
        "import time"
      ],
      "execution_count": 2,
      "outputs": []
    },
    {
      "cell_type": "markdown",
      "metadata": {
        "id": "bo_X637pG5xZ"
      },
      "source": [
        "**Defining client ID and client secret**</br>Client ID dan Client Secret diambil berdasarkan [Spotify API Documentation](https://developer.spotify.com/documentation/general/guides/authorization/app-settings/)"
      ]
    },
    {
      "cell_type": "code",
      "metadata": {
        "id": "NqamwfO071w9"
      },
      "source": [
        "client_id = \"147faf0c44074d52b4c8e0614e66193f\"\n",
        "client_secret = \"8bb787ed601b46ef9d875a9b8b5dd095\"\n",
        "client_credentials_manager = SpotifyClientCredentials(client_id=client_id, client_secret=client_secret)\n",
        "sp = spotipy.Spotify(client_credentials_manager=client_credentials_manager)"
      ],
      "execution_count": 3,
      "outputs": []
    },
    {
      "cell_type": "markdown",
      "metadata": {
        "id": "5HNkZXpCHo0g"
      },
      "source": [
        "**Getting tracks from playlist**</br>Mengambil data berupa ID lagu dari playlist [2021 Hits](https://open.spotify.com/playlist/4JkkvMpVl4lSioqQjeAL0q) menggunakan library [Spotipy](https://spotipy.readthedocs.io/en/2.19.0/) "
      ]
    },
    {
      "cell_type": "code",
      "metadata": {
        "id": "U_JsXM5n8DET"
      },
      "source": [
        "def getTrackIDs(user, playlist_id):\n",
        "    ids = []\n",
        "    playlist = sp.user_playlist(user, playlist_id)\n",
        "    for item in playlist['tracks']['items']:\n",
        "        track = item['track']\n",
        "        ids.append(track['id'])\n",
        "    return ids\n",
        "\n",
        "ids = getTrackIDs('filtr', '4JkkvMpVl4lSioqQjeAL0q')"
      ],
      "execution_count": 4,
      "outputs": []
    },
    {
      "cell_type": "code",
      "metadata": {
        "colab": {
          "base_uri": "https://localhost:8080/"
        },
        "id": "Hc6RZQqP-XSU",
        "outputId": "22605f97-2585-4354-ef84-2e93e3a0df83"
      },
      "source": [
        "print(len(ids))\n",
        "print(ids)"
      ],
      "execution_count": 5,
      "outputs": [
        {
          "output_type": "stream",
          "name": "stdout",
          "text": [
            "100\n",
            "['0gplL1WMoJ6iYaPgMCL0gX', '6dmXZ9B5HdFAyzHeTneYBK', '6Uj1ctrBOjOas8xZXGqKk4', '3Kkjo3cT83cw09VJyrLNwX', '4R67rQNSbbsR4TdUVOIdez', '0e8nrvls4Qqv5Rfa2UhqmO', '6v0UJD4a2FtleHeSYVX02A', '6PERP62TejQjgHu81OHxgM', '3Vi5XqYrmQgOYBajMWSvCi', '6OGogr19zPTM4BALXuMQpF', '27NovPIUIRrOZoCHxABJwK', '5fwSHlTEWpluwOM0Sxnh5k', '2cc8Sw1OnCuA5bV8nqWqpE', '3USxtqRwSYz57Ewm6wWRMp', '6zSpb8dQRaw0M1dK8PBwQz', '1e9oZCCiX42nJl0AcqriVo', '6bQfNiqyCX7UaQSvVVGo4I', '1imMjt1YGNebtrtTAprKV7', '6w8ZPYdnGajyfPddTWdthN', '1is8gU4RVcN4J8xItxWoOY', '5uEYRdEIh9Bo4fpjDd4Na9', '3FeVmId7tL5YN8B7R3imoM', '6bGMSP3H9YqkmaLnaJTIoF', '4wosxLl0mAqhneDzya2MfY', '3jjujdWJ72nww5eGnfs2E7', '7hU3IHwjX150XLoTVmjD0q', '3Wrjm47oTz2sjIgck11l5e', '748mdHapucXQri7IAO8yFK', '463CkQjx2Zk1yXoBuierM9', '3uUuGVFu1V7jTQL60S1r8z', '5dPz35akJjPqb17yeqNwqH', '78SCmQ8A7KQSMdkem2SwBP', '3BZEcbdtXQSo7OrvKRJ6mb', '7l97ElWmIdVHWUaOeeU5ZC', '15OCqNPYoLziEAsbVnqRj5', '4cG7HUWYHBV6R6tHn1gxrl', '3FAJ6O0NOHQV8Mc5Ri6ENp', '08F16baYbciTva9P4BvpiI', '61Emqg95O9zo1GNOcyxq4Y', '4RVwu0g32PAqgUiJoXsdF8', '2BEcap3xJtmiPaHKyfQi4e', '239yM7BAQ2CkNc61ogPGXo', '4jPy3l0RUwlUI9T5XHBW2m', '6T6D9CIrHkALcHPafDFA6L', '6U0FIYXCQ3TGrk4tFpLrEA', '4knc1Fp3kbuq8bH2byOvLu', '3npzogdOEiVsieXmmhBepL', '3Lp8Xd2K7TwlY32SPvXkvF', '5yY9lUy8nbvjM1Uyo1Uqoc', '4HDCLYli2SUdkq9OjmvhSD', '6TqXcAFInzjp0bODyvrWEq', '1A6gT680oQr98VtDkNzys7', '1058fW9H3fZA6QjYCdOBad', '3YJJjQPAbDT7mGpX3WtQ9A', '3VqeTFIvhxu3DIe4eZVzGq', '2QjOHCTQ1Jl3zawyYOpxh6', '31sSFHIe4NaxltVFOEIcTa', '0b18g3G5spr4ZCkz7Y6Q0Q', '1EHUQesfVKwbthtNcpBi9g', '43PGPuHIlVOc04jrZVh9L6', '3p7Xcy0kkecEFZoi0eah9j', '3VT8hOC5vuDXBsHrR53WFh', '4HzqWEdAbzcVFDv0pvxV4w', '4iJyoBOLtHqaGxP12qzhQI', '7MC4XR9M9amdmKQr2iDF7i', '1daDRI9ahBonbWD8YcxOIB', '3Zs7UPRJeoy3uycdPHVfwv', '51PSUD2YHjPyAy3jnkaoy7', '5QO79kh1waicV47BqGRL3g', '1c1sdxrYLIiuJOlE7PPttb', '7MAibcTli4IisCtbHKrGMh', '3PwRuzdphgedcWVUOVYJ7I', '5JqZ3oqF00jkT81foAFvqg', '1FKG2wgJ75wS9MFNVZFiWd', '6AGOKlMZWLCaEJGnaROtF9', '2mL37yB3f3Lfy4iiXV02Qf', '7lPN2DXiMsVn7XUKtOW1CS', '73ucpKq91TuejrLHgzDNHK', '7Bpx2vsWfQFBACRz4h3IqH', '4uDhts78RdwIDjEqPrYVKp', '5FG7Tl93LdH117jEKYl3Cm', '5SixeLvPsYpk7qq9lo5xYg', '5a6pdCHlWS2ekOOQ70QnAr', '5RwV8BvLfX5injfqYodke9', '4XvcHTUfIlWfyJTRG0aqlo', '3VvA1wSxukMLsvXoXtlwWx', '5ajjAnNRh8bxFvaVHzpPjh', '27XMmSWSOXJ7eVb40tH93T', '5evRJdyXpQjdXhplXIQ0Bc', '2etHQJxIbV0soyPhelVs9Y', '6ft4hAq6yde8jPZY2i5zLr', '1ahCrpeTt94LL7y1aXw0Y8', '1XXimziG1uhM0eDNCZCrUl', '5nWVyZaCwtfAkBnwDuXjBh', '4yNoUQkYf1QF8iYlEzNynH', '5yorXJWdBan1Vlh116ZtQ7', '25GyyK9CyZRiDCsPY51fIT', '7igeByaBM0MgGsgXtNxDJ7', '7eJMfftS33KTjuF7lTsMCx', '47EiUVwUp4C9fGccaPuUCS']\n"
          ]
        }
      ]
    },
    {
      "cell_type": "markdown",
      "metadata": {
        "id": "z1kyDGpyI8Ck"
      },
      "source": [
        "**Getting Track Features**</br>Mengambil fitur-fitur yang terdapat pada lagu."
      ]
    },
    {
      "cell_type": "code",
      "metadata": {
        "id": "OhgfLg15-cBX"
      },
      "source": [
        "def getTrackFeatures(id):\n",
        "  meta = sp.track(id)\n",
        "  features = sp.audio_features(id)\n",
        "\n",
        "  # meta\n",
        "  name = meta['name']\n",
        "  album = meta['album']['name']\n",
        "  artists = meta['album']['artists'][0]['name']\n",
        "  release_date = meta['album']['release_date']\n",
        "  duration_ms = meta['duration_ms']\n",
        "  popularity = meta['popularity']\n",
        "\n",
        "  # features\n",
        "  acousticness = features[0]['acousticness']\n",
        "  danceability = features[0]['danceability']\n",
        "  energy = features[0]['energy']\n",
        "  instrumentalness = features[0]['instrumentalness']\n",
        "  liveness = features[0]['liveness']\n",
        "  loudness = features[0]['loudness']\n",
        "  speechiness = features[0]['speechiness']\n",
        "  tempo = features[0]['tempo']\n",
        "  key = features[0]['key']\n",
        "  mode = features[0]['mode']\n",
        "  valence = features[0]['valence']\n",
        "\n",
        "  track = [acousticness, artists, danceability, duration_ms, energy, id, instrumentalness, key, liveness, loudness, mode, name, popularity, release_date, speechiness, tempo, valence]\n",
        "  return track"
      ],
      "execution_count": 6,
      "outputs": []
    },
    {
      "cell_type": "markdown",
      "metadata": {
        "id": "lgiGmMxIJOxA"
      },
      "source": [
        "**Creating dataset from track ID and features**</br>Membuat dataset yang berisi fitur-fitur lagu berdasarkan Track ID."
      ]
    },
    {
      "cell_type": "code",
      "metadata": {
        "id": "fzOxxrzQ-tFQ"
      },
      "source": [
        "# perulangan pada track ids \n",
        "tracks = []\n",
        "for i in range(len(ids)):\n",
        "  time.sleep(.5)\n",
        "  track = getTrackFeatures(ids[i])\n",
        "  tracks.append(track)\n",
        "\n",
        "# membuat dataset\n",
        "df = pd.DataFrame(tracks, columns = ['acousticness', 'artists', 'danceability', 'duration_ms', 'energy', 'id', 'instrumentalness', 'key', 'liveness', 'loudness', 'mode', 'name', 'popularity', 'release_date', 'speechiness', 'tempo', 'valence'])\n",
        "df.to_csv(\"spotify.csv\", sep = ',')\n"
      ],
      "execution_count": 7,
      "outputs": []
    },
    {
      "cell_type": "markdown",
      "metadata": {
        "id": "uT7oXJGwJg-S"
      },
      "source": [
        "**Checking dataset**"
      ]
    },
    {
      "cell_type": "code",
      "metadata": {
        "colab": {
          "base_uri": "https://localhost:8080/",
          "height": 826
        },
        "id": "TV2loW5s_FDp",
        "outputId": "af191ae3-d0c8-4629-e738-9d9f62903005"
      },
      "source": [
        "df"
      ],
      "execution_count": 8,
      "outputs": [
        {
          "output_type": "execute_result",
          "data": {
            "text/html": [
              "<div>\n",
              "<style scoped>\n",
              "    .dataframe tbody tr th:only-of-type {\n",
              "        vertical-align: middle;\n",
              "    }\n",
              "\n",
              "    .dataframe tbody tr th {\n",
              "        vertical-align: top;\n",
              "    }\n",
              "\n",
              "    .dataframe thead th {\n",
              "        text-align: right;\n",
              "    }\n",
              "</style>\n",
              "<table border=\"1\" class=\"dataframe\">\n",
              "  <thead>\n",
              "    <tr style=\"text-align: right;\">\n",
              "      <th></th>\n",
              "      <th>acousticness</th>\n",
              "      <th>artists</th>\n",
              "      <th>danceability</th>\n",
              "      <th>duration_ms</th>\n",
              "      <th>energy</th>\n",
              "      <th>id</th>\n",
              "      <th>instrumentalness</th>\n",
              "      <th>key</th>\n",
              "      <th>liveness</th>\n",
              "      <th>loudness</th>\n",
              "      <th>mode</th>\n",
              "      <th>name</th>\n",
              "      <th>popularity</th>\n",
              "      <th>release_date</th>\n",
              "      <th>speechiness</th>\n",
              "      <th>tempo</th>\n",
              "      <th>valence</th>\n",
              "    </tr>\n",
              "  </thead>\n",
              "  <tbody>\n",
              "    <tr>\n",
              "      <th>0</th>\n",
              "      <td>0.57800</td>\n",
              "      <td>Adele</td>\n",
              "      <td>0.604</td>\n",
              "      <td>224694</td>\n",
              "      <td>0.366</td>\n",
              "      <td>0gplL1WMoJ6iYaPgMCL0gX</td>\n",
              "      <td>0.000000</td>\n",
              "      <td>5</td>\n",
              "      <td>0.1330</td>\n",
              "      <td>-7.519</td>\n",
              "      <td>1</td>\n",
              "      <td>Easy On Me</td>\n",
              "      <td>100</td>\n",
              "      <td>2021-10-14</td>\n",
              "      <td>0.0282</td>\n",
              "      <td>141.981</td>\n",
              "      <td>0.130</td>\n",
              "    </tr>\n",
              "    <tr>\n",
              "      <th>1</th>\n",
              "      <td>0.94600</td>\n",
              "      <td>ROSALÍA</td>\n",
              "      <td>0.770</td>\n",
              "      <td>188102</td>\n",
              "      <td>0.302</td>\n",
              "      <td>6dmXZ9B5HdFAyzHeTneYBK</td>\n",
              "      <td>0.000034</td>\n",
              "      <td>0</td>\n",
              "      <td>0.1250</td>\n",
              "      <td>-7.911</td>\n",
              "      <td>0</td>\n",
              "      <td>LA FAMA (with The Weeknd)</td>\n",
              "      <td>88</td>\n",
              "      <td>2021-11-11</td>\n",
              "      <td>0.0466</td>\n",
              "      <td>136.010</td>\n",
              "      <td>0.821</td>\n",
              "    </tr>\n",
              "    <tr>\n",
              "      <th>2</th>\n",
              "      <td>0.08880</td>\n",
              "      <td>Doja Cat</td>\n",
              "      <td>0.824</td>\n",
              "      <td>172626</td>\n",
              "      <td>0.764</td>\n",
              "      <td>6Uj1ctrBOjOas8xZXGqKk4</td>\n",
              "      <td>0.002940</td>\n",
              "      <td>5</td>\n",
              "      <td>0.1170</td>\n",
              "      <td>-4.175</td>\n",
              "      <td>0</td>\n",
              "      <td>Woman</td>\n",
              "      <td>95</td>\n",
              "      <td>2021-06-25</td>\n",
              "      <td>0.0854</td>\n",
              "      <td>107.998</td>\n",
              "      <td>0.881</td>\n",
              "    </tr>\n",
              "    <tr>\n",
              "      <th>3</th>\n",
              "      <td>0.09100</td>\n",
              "      <td>Adele</td>\n",
              "      <td>0.534</td>\n",
              "      <td>225148</td>\n",
              "      <td>0.725</td>\n",
              "      <td>3Kkjo3cT83cw09VJyrLNwX</td>\n",
              "      <td>0.000000</td>\n",
              "      <td>1</td>\n",
              "      <td>0.0264</td>\n",
              "      <td>-3.906</td>\n",
              "      <td>1</td>\n",
              "      <td>Oh My God</td>\n",
              "      <td>92</td>\n",
              "      <td>2021-11-19</td>\n",
              "      <td>0.0460</td>\n",
              "      <td>88.098</td>\n",
              "      <td>0.550</td>\n",
              "    </tr>\n",
              "    <tr>\n",
              "      <th>4</th>\n",
              "      <td>0.00207</td>\n",
              "      <td>Travis Scott</td>\n",
              "      <td>0.839</td>\n",
              "      <td>149610</td>\n",
              "      <td>0.506</td>\n",
              "      <td>4R67rQNSbbsR4TdUVOIdez</td>\n",
              "      <td>0.000000</td>\n",
              "      <td>5</td>\n",
              "      <td>0.1300</td>\n",
              "      <td>-6.714</td>\n",
              "      <td>0</td>\n",
              "      <td>ESCAPE PLAN</td>\n",
              "      <td>88</td>\n",
              "      <td>2021-11-05</td>\n",
              "      <td>0.1330</td>\n",
              "      <td>154.120</td>\n",
              "      <td>0.440</td>\n",
              "    </tr>\n",
              "    <tr>\n",
              "      <th>...</th>\n",
              "      <td>...</td>\n",
              "      <td>...</td>\n",
              "      <td>...</td>\n",
              "      <td>...</td>\n",
              "      <td>...</td>\n",
              "      <td>...</td>\n",
              "      <td>...</td>\n",
              "      <td>...</td>\n",
              "      <td>...</td>\n",
              "      <td>...</td>\n",
              "      <td>...</td>\n",
              "      <td>...</td>\n",
              "      <td>...</td>\n",
              "      <td>...</td>\n",
              "      <td>...</td>\n",
              "      <td>...</td>\n",
              "      <td>...</td>\n",
              "    </tr>\n",
              "    <tr>\n",
              "      <th>95</th>\n",
              "      <td>0.09040</td>\n",
              "      <td>BIA</td>\n",
              "      <td>0.897</td>\n",
              "      <td>156005</td>\n",
              "      <td>0.371</td>\n",
              "      <td>5yorXJWdBan1Vlh116ZtQ7</td>\n",
              "      <td>0.000000</td>\n",
              "      <td>1</td>\n",
              "      <td>0.3250</td>\n",
              "      <td>-5.019</td>\n",
              "      <td>1</td>\n",
              "      <td>WHOLE LOTTA MONEY</td>\n",
              "      <td>71</td>\n",
              "      <td>2020-12-11</td>\n",
              "      <td>0.3680</td>\n",
              "      <td>81.008</td>\n",
              "      <td>0.441</td>\n",
              "    </tr>\n",
              "    <tr>\n",
              "      <th>96</th>\n",
              "      <td>0.09510</td>\n",
              "      <td>Lil Tjay</td>\n",
              "      <td>0.545</td>\n",
              "      <td>150475</td>\n",
              "      <td>0.820</td>\n",
              "      <td>25GyyK9CyZRiDCsPY51fIT</td>\n",
              "      <td>0.000000</td>\n",
              "      <td>8</td>\n",
              "      <td>0.2900</td>\n",
              "      <td>-4.489</td>\n",
              "      <td>1</td>\n",
              "      <td>Not In The Mood (feat. Fivio Foreign &amp; Kay Flock)</td>\n",
              "      <td>81</td>\n",
              "      <td>2021-10-22</td>\n",
              "      <td>0.2750</td>\n",
              "      <td>141.908</td>\n",
              "      <td>0.357</td>\n",
              "    </tr>\n",
              "    <tr>\n",
              "      <th>97</th>\n",
              "      <td>0.46800</td>\n",
              "      <td>Ariana Grande</td>\n",
              "      <td>0.736</td>\n",
              "      <td>172324</td>\n",
              "      <td>0.802</td>\n",
              "      <td>7igeByaBM0MgGsgXtNxDJ7</td>\n",
              "      <td>0.000000</td>\n",
              "      <td>0</td>\n",
              "      <td>0.0940</td>\n",
              "      <td>-4.759</td>\n",
              "      <td>1</td>\n",
              "      <td>positions</td>\n",
              "      <td>4</td>\n",
              "      <td>2020-10-23</td>\n",
              "      <td>0.0864</td>\n",
              "      <td>144.005</td>\n",
              "      <td>0.675</td>\n",
              "    </tr>\n",
              "    <tr>\n",
              "      <th>98</th>\n",
              "      <td>0.73100</td>\n",
              "      <td>Powfu</td>\n",
              "      <td>0.726</td>\n",
              "      <td>173333</td>\n",
              "      <td>0.431</td>\n",
              "      <td>7eJMfftS33KTjuF7lTsMCx</td>\n",
              "      <td>0.000000</td>\n",
              "      <td>8</td>\n",
              "      <td>0.6960</td>\n",
              "      <td>-8.765</td>\n",
              "      <td>0</td>\n",
              "      <td>death bed (coffee for your head)</td>\n",
              "      <td>85</td>\n",
              "      <td>2020-02-08</td>\n",
              "      <td>0.1350</td>\n",
              "      <td>144.026</td>\n",
              "      <td>0.348</td>\n",
              "    </tr>\n",
              "    <tr>\n",
              "      <th>99</th>\n",
              "      <td>0.40100</td>\n",
              "      <td>Bad Bunny</td>\n",
              "      <td>0.731</td>\n",
              "      <td>205090</td>\n",
              "      <td>0.573</td>\n",
              "      <td>47EiUVwUp4C9fGccaPuUCS</td>\n",
              "      <td>0.000052</td>\n",
              "      <td>4</td>\n",
              "      <td>0.1130</td>\n",
              "      <td>-10.059</td>\n",
              "      <td>0</td>\n",
              "      <td>DÁKITI</td>\n",
              "      <td>84</td>\n",
              "      <td>2020-10-30</td>\n",
              "      <td>0.0544</td>\n",
              "      <td>109.928</td>\n",
              "      <td>0.145</td>\n",
              "    </tr>\n",
              "  </tbody>\n",
              "</table>\n",
              "<p>100 rows × 17 columns</p>\n",
              "</div>"
            ],
            "text/plain": [
              "    acousticness        artists  danceability  ...  speechiness    tempo valence\n",
              "0        0.57800          Adele         0.604  ...       0.0282  141.981   0.130\n",
              "1        0.94600        ROSALÍA         0.770  ...       0.0466  136.010   0.821\n",
              "2        0.08880       Doja Cat         0.824  ...       0.0854  107.998   0.881\n",
              "3        0.09100          Adele         0.534  ...       0.0460   88.098   0.550\n",
              "4        0.00207   Travis Scott         0.839  ...       0.1330  154.120   0.440\n",
              "..           ...            ...           ...  ...          ...      ...     ...\n",
              "95       0.09040            BIA         0.897  ...       0.3680   81.008   0.441\n",
              "96       0.09510       Lil Tjay         0.545  ...       0.2750  141.908   0.357\n",
              "97       0.46800  Ariana Grande         0.736  ...       0.0864  144.005   0.675\n",
              "98       0.73100          Powfu         0.726  ...       0.1350  144.026   0.348\n",
              "99       0.40100      Bad Bunny         0.731  ...       0.0544  109.928   0.145\n",
              "\n",
              "[100 rows x 17 columns]"
            ]
          },
          "metadata": {},
          "execution_count": 8
        }
      ]
    }
  ]
}