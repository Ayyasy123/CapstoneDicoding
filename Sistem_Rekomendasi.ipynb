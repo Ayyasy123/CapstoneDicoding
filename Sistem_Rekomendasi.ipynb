{
  "nbformat": 4,
  "nbformat_minor": 0,
  "metadata": {
    "colab": {
      "name": "Sistem Rekomendasi.ipynb",
      "provenance": [],
      "collapsed_sections": []
    },
    "kernelspec": {
      "name": "python3",
      "display_name": "Python 3"
    },
    "language_info": {
      "name": "python"
    }
  },
  "cells": [
    {
      "cell_type": "code",
      "metadata": {
        "id": "iE2HhGDI2cyR"
      },
      "source": [
        "import numpy as np\n",
        "import matplotlib.pyplot as plt\n",
        "import pandas as pd"
      ],
      "execution_count": null,
      "outputs": []
    },
    {
      "cell_type": "code",
      "metadata": {
        "id": "QocFH94J2qkZ"
      },
      "source": [
        "data_path = \"/content/drive/MyDrive/Dicoding/Capstone/CBF.csv\"\n",
        "df = pd.read_csv(data_path)"
      ],
      "execution_count": null,
      "outputs": []
    },
    {
      "cell_type": "code",
      "metadata": {
        "colab": {
          "base_uri": "https://localhost:8080/",
          "height": 424
        },
        "id": "mPNHRNNh2tXy",
        "outputId": "443344ad-0d08-47cb-c77a-e6e5e58d4b6f"
      },
      "source": [
        "df"
      ],
      "execution_count": null,
      "outputs": [
        {
          "output_type": "execute_result",
          "data": {
            "text/html": [
              "<div>\n",
              "<style scoped>\n",
              "    .dataframe tbody tr th:only-of-type {\n",
              "        vertical-align: middle;\n",
              "    }\n",
              "\n",
              "    .dataframe tbody tr th {\n",
              "        vertical-align: top;\n",
              "    }\n",
              "\n",
              "    .dataframe thead th {\n",
              "        text-align: right;\n",
              "    }\n",
              "</style>\n",
              "<table border=\"1\" class=\"dataframe\">\n",
              "  <thead>\n",
              "    <tr style=\"text-align: right;\">\n",
              "      <th></th>\n",
              "      <th>artist_name</th>\n",
              "      <th>music_name</th>\n",
              "      <th>music_id</th>\n",
              "      <th>moods</th>\n",
              "      <th>gabungan</th>\n",
              "    </tr>\n",
              "  </thead>\n",
              "  <tbody>\n",
              "    <tr>\n",
              "      <th>0</th>\n",
              "      <td>Adele</td>\n",
              "      <td>Easy On Me</td>\n",
              "      <td>0gplL1WMoJ6iYaPgMCL0gX</td>\n",
              "      <td>Happy</td>\n",
              "      <td>Happy Adele</td>\n",
              "    </tr>\n",
              "    <tr>\n",
              "      <th>1</th>\n",
              "      <td>Rosalía</td>\n",
              "      <td>LA FAMA (with The Weeknd)</td>\n",
              "      <td>6dmXZ9B5HdFAyzHeTneYBK</td>\n",
              "      <td>Relaxed</td>\n",
              "      <td>Relaxed Rosalía</td>\n",
              "    </tr>\n",
              "    <tr>\n",
              "      <th>2</th>\n",
              "      <td>DojaCat</td>\n",
              "      <td>Woman</td>\n",
              "      <td>6Uj1ctrBOjOas8xZXGqKk4</td>\n",
              "      <td>Sad</td>\n",
              "      <td>Sad DojaCat</td>\n",
              "    </tr>\n",
              "    <tr>\n",
              "      <th>3</th>\n",
              "      <td>Adele</td>\n",
              "      <td>Oh My God</td>\n",
              "      <td>3Kkjo3cT83cw09VJyrLNwX</td>\n",
              "      <td>Anxious</td>\n",
              "      <td>Anxious Adele</td>\n",
              "    </tr>\n",
              "    <tr>\n",
              "      <th>4</th>\n",
              "      <td>TravisScott</td>\n",
              "      <td>ESCAPE PLAN</td>\n",
              "      <td>4R67rQNSbbsR4TdUVOIdez</td>\n",
              "      <td>Happy</td>\n",
              "      <td>Happy TravisScott</td>\n",
              "    </tr>\n",
              "    <tr>\n",
              "      <th>...</th>\n",
              "      <td>...</td>\n",
              "      <td>...</td>\n",
              "      <td>...</td>\n",
              "      <td>...</td>\n",
              "      <td>...</td>\n",
              "    </tr>\n",
              "    <tr>\n",
              "      <th>26710</th>\n",
              "      <td>Legado7 JuniorH</td>\n",
              "      <td>Ojos De Maniaco</td>\n",
              "      <td>52Cpyvd2dKb6XRn313nH87</td>\n",
              "      <td>Relaxed</td>\n",
              "      <td>Relaxed Legado7 JuniorH</td>\n",
              "    </tr>\n",
              "    <tr>\n",
              "      <th>26711</th>\n",
              "      <td>LeonBridges TerraceMartin</td>\n",
              "      <td>Sweeter (feat. Terrace Martin)</td>\n",
              "      <td>1ehhGlTvjtHo2e4xJFB0SZ</td>\n",
              "      <td>Happy</td>\n",
              "      <td>Happy LeonBridges TerraceMartin</td>\n",
              "    </tr>\n",
              "    <tr>\n",
              "      <th>26712</th>\n",
              "      <td>Kygo OhWonder</td>\n",
              "      <td>How Would I Know</td>\n",
              "      <td>52eycxprLhK3lPcRLbQiVk</td>\n",
              "      <td>Happy</td>\n",
              "      <td>Happy Kygo OhWonder</td>\n",
              "    </tr>\n",
              "    <tr>\n",
              "      <th>26713</th>\n",
              "      <td>CashCash AndyGrammer</td>\n",
              "      <td>I Found You</td>\n",
              "      <td>3wYOGJYD31sLRmBgCvWxa4</td>\n",
              "      <td>Anxious</td>\n",
              "      <td>Anxious CashCash AndyGrammer</td>\n",
              "    </tr>\n",
              "    <tr>\n",
              "      <th>26714</th>\n",
              "      <td>IngridAndress</td>\n",
              "      <td>More Hearts Than Mine</td>\n",
              "      <td>60RFlt48hm0l4Fu0JoccOl</td>\n",
              "      <td>Happy</td>\n",
              "      <td>Happy IngridAndress</td>\n",
              "    </tr>\n",
              "  </tbody>\n",
              "</table>\n",
              "<p>26715 rows × 5 columns</p>\n",
              "</div>"
            ],
            "text/plain": [
              "                     artist_name  ...                         gabungan\n",
              "0                          Adele  ...                      Happy Adele\n",
              "1                        Rosalía  ...                  Relaxed Rosalía\n",
              "2                        DojaCat  ...                      Sad DojaCat\n",
              "3                          Adele  ...                    Anxious Adele\n",
              "4                    TravisScott  ...                Happy TravisScott\n",
              "...                          ...  ...                              ...\n",
              "26710            Legado7 JuniorH  ...          Relaxed Legado7 JuniorH\n",
              "26711  LeonBridges TerraceMartin  ...  Happy LeonBridges TerraceMartin\n",
              "26712              Kygo OhWonder  ...              Happy Kygo OhWonder\n",
              "26713       CashCash AndyGrammer  ...     Anxious CashCash AndyGrammer\n",
              "26714              IngridAndress  ...              Happy IngridAndress\n",
              "\n",
              "[26715 rows x 5 columns]"
            ]
          },
          "metadata": {},
          "execution_count": 3
        }
      ]
    },
    {
      "cell_type": "code",
      "source": [
        "from sklearn.feature_extraction.text import TfidfVectorizer\n",
        " \n",
        "# Inisialisasi TfidfVectorizer\n",
        "tf = TfidfVectorizer()\n",
        " \n",
        "# Melakukan perhitungan idf pada data cuisine\n",
        "tf.fit(df['moods']) \n",
        " \n",
        "# Mapping array dari fitur index integer ke fitur nama\n",
        "tf.get_feature_names() "
      ],
      "metadata": {
        "colab": {
          "base_uri": "https://localhost:8080/"
        },
        "id": "NBAd98qJSsFJ",
        "outputId": "11b85821-81ac-4413-e506-ec77af1232a7"
      },
      "execution_count": null,
      "outputs": [
        {
          "output_type": "stream",
          "name": "stderr",
          "text": [
            "/usr/local/lib/python3.7/dist-packages/sklearn/utils/deprecation.py:87: FutureWarning: Function get_feature_names is deprecated; get_feature_names is deprecated in 1.0 and will be removed in 1.2. Please use get_feature_names_out instead.\n",
            "  warnings.warn(msg, category=FutureWarning)\n"
          ]
        },
        {
          "output_type": "execute_result",
          "data": {
            "text/plain": [
              "['anxious', 'happy', 'relaxed', 'sad']"
            ]
          },
          "metadata": {},
          "execution_count": 4
        }
      ]
    },
    {
      "cell_type": "code",
      "source": [
        "# Melakukan fit lalu ditransformasikan ke bentuk matrix\n",
        "tfidf_matrix = tf.fit_transform(df['moods']) \n",
        " \n",
        "# Melihat ukuran matrix tfidf\n",
        "tfidf_matrix.shape"
      ],
      "metadata": {
        "colab": {
          "base_uri": "https://localhost:8080/"
        },
        "id": "1BW7jUQaS4CR",
        "outputId": "b9592bd7-edcd-4d9f-c5aa-dd0a5816a1d0"
      },
      "execution_count": null,
      "outputs": [
        {
          "output_type": "execute_result",
          "data": {
            "text/plain": [
              "(26715, 4)"
            ]
          },
          "metadata": {},
          "execution_count": 5
        }
      ]
    },
    {
      "cell_type": "code",
      "source": [
        "# Mengubah vektor tf-idf dalam bentuk matriks dengan fungsi todense()\n",
        "tfidf_matrix.todense()"
      ],
      "metadata": {
        "colab": {
          "base_uri": "https://localhost:8080/"
        },
        "id": "8TwT2SJwS6F8",
        "outputId": "ab44829c-faaa-4916-fdcc-9e7ab6f6c9f3"
      },
      "execution_count": null,
      "outputs": [
        {
          "output_type": "execute_result",
          "data": {
            "text/plain": [
              "matrix([[0., 1., 0., 0.],\n",
              "        [0., 0., 1., 0.],\n",
              "        [0., 0., 0., 1.],\n",
              "        ...,\n",
              "        [0., 1., 0., 0.],\n",
              "        [1., 0., 0., 0.],\n",
              "        [0., 1., 0., 0.]])"
            ]
          },
          "metadata": {},
          "execution_count": 6
        }
      ]
    },
    {
      "cell_type": "code",
      "source": [
        "# Membuat dataframe untuk melihat tf-idf matrix\n",
        "# Kolom diisi dengan jenis masakan\n",
        "# Baris diisi dengan nama resto\n",
        " \n",
        "pd.DataFrame(\n",
        "    tfidf_matrix.todense(), \n",
        "    columns=tf.get_feature_names(),\n",
        "    index=df['music_name'],\n",
        ")"
      ],
      "metadata": {
        "colab": {
          "base_uri": "https://localhost:8080/",
          "height": 510
        },
        "id": "DFGbXYDjTNlz",
        "outputId": "f9a15b9d-1850-4339-cfe3-81f12e9a118e"
      },
      "execution_count": null,
      "outputs": [
        {
          "output_type": "stream",
          "name": "stderr",
          "text": [
            "/usr/local/lib/python3.7/dist-packages/sklearn/utils/deprecation.py:87: FutureWarning: Function get_feature_names is deprecated; get_feature_names is deprecated in 1.0 and will be removed in 1.2. Please use get_feature_names_out instead.\n",
            "  warnings.warn(msg, category=FutureWarning)\n"
          ]
        },
        {
          "output_type": "execute_result",
          "data": {
            "text/html": [
              "<div>\n",
              "<style scoped>\n",
              "    .dataframe tbody tr th:only-of-type {\n",
              "        vertical-align: middle;\n",
              "    }\n",
              "\n",
              "    .dataframe tbody tr th {\n",
              "        vertical-align: top;\n",
              "    }\n",
              "\n",
              "    .dataframe thead th {\n",
              "        text-align: right;\n",
              "    }\n",
              "</style>\n",
              "<table border=\"1\" class=\"dataframe\">\n",
              "  <thead>\n",
              "    <tr style=\"text-align: right;\">\n",
              "      <th></th>\n",
              "      <th>anxious</th>\n",
              "      <th>happy</th>\n",
              "      <th>relaxed</th>\n",
              "      <th>sad</th>\n",
              "    </tr>\n",
              "    <tr>\n",
              "      <th>music_name</th>\n",
              "      <th></th>\n",
              "      <th></th>\n",
              "      <th></th>\n",
              "      <th></th>\n",
              "    </tr>\n",
              "  </thead>\n",
              "  <tbody>\n",
              "    <tr>\n",
              "      <th>Easy On Me</th>\n",
              "      <td>0.0</td>\n",
              "      <td>1.0</td>\n",
              "      <td>0.0</td>\n",
              "      <td>0.0</td>\n",
              "    </tr>\n",
              "    <tr>\n",
              "      <th>LA FAMA (with The Weeknd)</th>\n",
              "      <td>0.0</td>\n",
              "      <td>0.0</td>\n",
              "      <td>1.0</td>\n",
              "      <td>0.0</td>\n",
              "    </tr>\n",
              "    <tr>\n",
              "      <th>Woman</th>\n",
              "      <td>0.0</td>\n",
              "      <td>0.0</td>\n",
              "      <td>0.0</td>\n",
              "      <td>1.0</td>\n",
              "    </tr>\n",
              "    <tr>\n",
              "      <th>Oh My God</th>\n",
              "      <td>1.0</td>\n",
              "      <td>0.0</td>\n",
              "      <td>0.0</td>\n",
              "      <td>0.0</td>\n",
              "    </tr>\n",
              "    <tr>\n",
              "      <th>ESCAPE PLAN</th>\n",
              "      <td>0.0</td>\n",
              "      <td>1.0</td>\n",
              "      <td>0.0</td>\n",
              "      <td>0.0</td>\n",
              "    </tr>\n",
              "    <tr>\n",
              "      <th>...</th>\n",
              "      <td>...</td>\n",
              "      <td>...</td>\n",
              "      <td>...</td>\n",
              "      <td>...</td>\n",
              "    </tr>\n",
              "    <tr>\n",
              "      <th>Ojos De Maniaco</th>\n",
              "      <td>0.0</td>\n",
              "      <td>0.0</td>\n",
              "      <td>1.0</td>\n",
              "      <td>0.0</td>\n",
              "    </tr>\n",
              "    <tr>\n",
              "      <th>Sweeter (feat. Terrace Martin)</th>\n",
              "      <td>0.0</td>\n",
              "      <td>1.0</td>\n",
              "      <td>0.0</td>\n",
              "      <td>0.0</td>\n",
              "    </tr>\n",
              "    <tr>\n",
              "      <th>How Would I Know</th>\n",
              "      <td>0.0</td>\n",
              "      <td>1.0</td>\n",
              "      <td>0.0</td>\n",
              "      <td>0.0</td>\n",
              "    </tr>\n",
              "    <tr>\n",
              "      <th>I Found You</th>\n",
              "      <td>1.0</td>\n",
              "      <td>0.0</td>\n",
              "      <td>0.0</td>\n",
              "      <td>0.0</td>\n",
              "    </tr>\n",
              "    <tr>\n",
              "      <th>More Hearts Than Mine</th>\n",
              "      <td>0.0</td>\n",
              "      <td>1.0</td>\n",
              "      <td>0.0</td>\n",
              "      <td>0.0</td>\n",
              "    </tr>\n",
              "  </tbody>\n",
              "</table>\n",
              "<p>26715 rows × 4 columns</p>\n",
              "</div>"
            ],
            "text/plain": [
              "                                anxious  happy  relaxed  sad\n",
              "music_name                                                  \n",
              "Easy On Me                          0.0    1.0      0.0  0.0\n",
              "LA FAMA (with The Weeknd)           0.0    0.0      1.0  0.0\n",
              "Woman                               0.0    0.0      0.0  1.0\n",
              "Oh My God                           1.0    0.0      0.0  0.0\n",
              "ESCAPE PLAN                         0.0    1.0      0.0  0.0\n",
              "...                                 ...    ...      ...  ...\n",
              "Ojos De Maniaco                     0.0    0.0      1.0  0.0\n",
              "Sweeter (feat. Terrace Martin)      0.0    1.0      0.0  0.0\n",
              "How Would I Know                    0.0    1.0      0.0  0.0\n",
              "I Found You                         1.0    0.0      0.0  0.0\n",
              "More Hearts Than Mine               0.0    1.0      0.0  0.0\n",
              "\n",
              "[26715 rows x 4 columns]"
            ]
          },
          "metadata": {},
          "execution_count": 7
        }
      ]
    },
    {
      "cell_type": "code",
      "source": [
        "from sklearn.metrics.pairwise import cosine_similarity\n",
        " \n",
        "# Menghitung cosine similarity pada matrix tf-idf\n",
        "cosine_sim = cosine_similarity(tfidf_matrix) \n",
        "cosine_sim"
      ],
      "metadata": {
        "colab": {
          "base_uri": "https://localhost:8080/"
        },
        "id": "ZCgXNiwgTQyF",
        "outputId": "80146e27-7ab4-4dc8-d829-077f9c44b43f"
      },
      "execution_count": null,
      "outputs": [
        {
          "output_type": "execute_result",
          "data": {
            "text/plain": [
              "array([[1., 0., 0., ..., 1., 0., 1.],\n",
              "       [0., 1., 0., ..., 0., 0., 0.],\n",
              "       [0., 0., 1., ..., 0., 0., 0.],\n",
              "       ...,\n",
              "       [1., 0., 0., ..., 1., 0., 1.],\n",
              "       [0., 0., 0., ..., 0., 1., 0.],\n",
              "       [1., 0., 0., ..., 1., 0., 1.]])"
            ]
          },
          "metadata": {},
          "execution_count": 8
        }
      ]
    },
    {
      "cell_type": "code",
      "source": [
        "# Membuat dataframe dari variabel cosine_sim dengan baris dan kolom berupa nama resto\n",
        "cosine_sim_df = pd.DataFrame(cosine_sim, index=df['music_name'], columns=df['music_name'])\n",
        "print('Shape:', cosine_sim_df.shape)\n",
        " \n",
        "# Melihat similarity matrix pada setiap resto\n",
        "cosine_sim_df.sample(5, axis=1).sample(10, axis=0)"
      ],
      "metadata": {
        "colab": {
          "base_uri": "https://localhost:8080/",
          "height": 412
        },
        "id": "vmbXQG0NTUpL",
        "outputId": "21ae8edf-fb1c-43e0-c559-de20ad9c4268"
      },
      "execution_count": null,
      "outputs": [
        {
          "output_type": "stream",
          "name": "stdout",
          "text": [
            "Shape: (26715, 26715)\n"
          ]
        },
        {
          "output_type": "execute_result",
          "data": {
            "text/html": [
              "<div>\n",
              "<style scoped>\n",
              "    .dataframe tbody tr th:only-of-type {\n",
              "        vertical-align: middle;\n",
              "    }\n",
              "\n",
              "    .dataframe tbody tr th {\n",
              "        vertical-align: top;\n",
              "    }\n",
              "\n",
              "    .dataframe thead th {\n",
              "        text-align: right;\n",
              "    }\n",
              "</style>\n",
              "<table border=\"1\" class=\"dataframe\">\n",
              "  <thead>\n",
              "    <tr style=\"text-align: right;\">\n",
              "      <th>music_name</th>\n",
              "      <th>St. Elmos Fire (Man in Motion)</th>\n",
              "      <th>Tears of Gold</th>\n",
              "      <th>Windowpane</th>\n",
              "      <th>Meeting in My Bedroom</th>\n",
              "      <th>Art Deco</th>\n",
              "    </tr>\n",
              "    <tr>\n",
              "      <th>music_name</th>\n",
              "      <th></th>\n",
              "      <th></th>\n",
              "      <th></th>\n",
              "      <th></th>\n",
              "      <th></th>\n",
              "    </tr>\n",
              "  </thead>\n",
              "  <tbody>\n",
              "    <tr>\n",
              "      <th>Shot Reverse Shot</th>\n",
              "      <td>0.0</td>\n",
              "      <td>0.0</td>\n",
              "      <td>0.0</td>\n",
              "      <td>0.0</td>\n",
              "      <td>0.0</td>\n",
              "    </tr>\n",
              "    <tr>\n",
              "      <th>Made Love First</th>\n",
              "      <td>0.0</td>\n",
              "      <td>1.0</td>\n",
              "      <td>0.0</td>\n",
              "      <td>0.0</td>\n",
              "      <td>0.0</td>\n",
              "    </tr>\n",
              "    <tr>\n",
              "      <th>Love Is Mystical</th>\n",
              "      <td>0.0</td>\n",
              "      <td>0.0</td>\n",
              "      <td>0.0</td>\n",
              "      <td>0.0</td>\n",
              "      <td>0.0</td>\n",
              "    </tr>\n",
              "    <tr>\n",
              "      <th>Country Sh*t (Remix)</th>\n",
              "      <td>0.0</td>\n",
              "      <td>0.0</td>\n",
              "      <td>0.0</td>\n",
              "      <td>1.0</td>\n",
              "      <td>1.0</td>\n",
              "    </tr>\n",
              "    <tr>\n",
              "      <th>Everything (feat. John Legend)</th>\n",
              "      <td>0.0</td>\n",
              "      <td>0.0</td>\n",
              "      <td>0.0</td>\n",
              "      <td>1.0</td>\n",
              "      <td>1.0</td>\n",
              "    </tr>\n",
              "    <tr>\n",
              "      <th>Givin the Dog a Bone</th>\n",
              "      <td>0.0</td>\n",
              "      <td>0.0</td>\n",
              "      <td>0.0</td>\n",
              "      <td>0.0</td>\n",
              "      <td>0.0</td>\n",
              "    </tr>\n",
              "    <tr>\n",
              "      <th>Vuela, Vuela (Voyage, Voyage)</th>\n",
              "      <td>0.0</td>\n",
              "      <td>0.0</td>\n",
              "      <td>0.0</td>\n",
              "      <td>0.0</td>\n",
              "      <td>0.0</td>\n",
              "    </tr>\n",
              "    <tr>\n",
              "      <th>Give Me A Sign</th>\n",
              "      <td>1.0</td>\n",
              "      <td>0.0</td>\n",
              "      <td>1.0</td>\n",
              "      <td>0.0</td>\n",
              "      <td>0.0</td>\n",
              "    </tr>\n",
              "    <tr>\n",
              "      <th>Good Things Fall Apart (with Jon Bellion)</th>\n",
              "      <td>1.0</td>\n",
              "      <td>0.0</td>\n",
              "      <td>1.0</td>\n",
              "      <td>0.0</td>\n",
              "      <td>0.0</td>\n",
              "    </tr>\n",
              "    <tr>\n",
              "      <th>Eye of the Tiger</th>\n",
              "      <td>0.0</td>\n",
              "      <td>1.0</td>\n",
              "      <td>0.0</td>\n",
              "      <td>0.0</td>\n",
              "      <td>0.0</td>\n",
              "    </tr>\n",
              "  </tbody>\n",
              "</table>\n",
              "</div>"
            ],
            "text/plain": [
              "music_name                                 St. Elmos Fire (Man in Motion)  ...  Art Deco\n",
              "music_name                                                                 ...          \n",
              "Shot Reverse Shot                                                     0.0  ...       0.0\n",
              "Made Love First                                                       0.0  ...       0.0\n",
              "Love Is Mystical                                                      0.0  ...       0.0\n",
              "Country Sh*t (Remix)                                                  0.0  ...       1.0\n",
              "Everything (feat. John Legend)                                        0.0  ...       1.0\n",
              "Givin the Dog a Bone                                                  0.0  ...       0.0\n",
              "Vuela, Vuela (Voyage, Voyage)                                         0.0  ...       0.0\n",
              "Give Me A Sign                                                        1.0  ...       0.0\n",
              "Good Things Fall Apart (with Jon Bellion)                             1.0  ...       0.0\n",
              "Eye of the Tiger                                                      0.0  ...       0.0\n",
              "\n",
              "[10 rows x 5 columns]"
            ]
          },
          "metadata": {},
          "execution_count": 9
        }
      ]
    },
    {
      "cell_type": "code",
      "source": [
        "def music_recommendations(music, similarity_data=cosine_sim_df, items=df[['music_name','artist_name','music_id','moods']], k=10):\n",
        "    \n",
        "    index = similarity_data.loc[:,music].to_numpy().argpartition(range(-1, -k, -1))\n",
        "    \n",
        "    closest = similarity_data.columns[index[-1:-(k+2):-1]]\n",
        "    \n",
        "    closest = closest.drop(music, errors='ignore')\n",
        " \n",
        "    return pd.DataFrame(closest).merge(items).head(k)"
      ],
      "metadata": {
        "id": "e76YJP6ZUJ-x"
      },
      "execution_count": null,
      "outputs": []
    },
    {
      "cell_type": "code",
      "source": [
        "df[df['music_name'].eq('Wanna Be Close')]"
      ],
      "metadata": {
        "colab": {
          "base_uri": "https://localhost:8080/",
          "height": 81
        },
        "id": "77NH6vZQNrdJ",
        "outputId": "cdc1d745-e45d-4955-fe19-130947a7223d"
      },
      "execution_count": null,
      "outputs": [
        {
          "output_type": "execute_result",
          "data": {
            "text/html": [
              "<div>\n",
              "<style scoped>\n",
              "    .dataframe tbody tr th:only-of-type {\n",
              "        vertical-align: middle;\n",
              "    }\n",
              "\n",
              "    .dataframe tbody tr th {\n",
              "        vertical-align: top;\n",
              "    }\n",
              "\n",
              "    .dataframe thead th {\n",
              "        text-align: right;\n",
              "    }\n",
              "</style>\n",
              "<table border=\"1\" class=\"dataframe\">\n",
              "  <thead>\n",
              "    <tr style=\"text-align: right;\">\n",
              "      <th></th>\n",
              "      <th>artist_name</th>\n",
              "      <th>music_name</th>\n",
              "      <th>music_id</th>\n",
              "      <th>moods</th>\n",
              "      <th>gabungan</th>\n",
              "    </tr>\n",
              "  </thead>\n",
              "  <tbody>\n",
              "    <tr>\n",
              "      <th>22641</th>\n",
              "      <td>Avant</td>\n",
              "      <td>Wanna Be Close</td>\n",
              "      <td>3TfBp81XBxnU5RLDKgD8nR</td>\n",
              "      <td>Relaxed</td>\n",
              "      <td>Relaxed Avant</td>\n",
              "    </tr>\n",
              "  </tbody>\n",
              "</table>\n",
              "</div>"
            ],
            "text/plain": [
              "      artist_name      music_name  ...    moods       gabungan\n",
              "22641       Avant  Wanna Be Close  ...  Relaxed  Relaxed Avant\n",
              "\n",
              "[1 rows x 5 columns]"
            ]
          },
          "metadata": {},
          "execution_count": 11
        }
      ]
    },
    {
      "cell_type": "code",
      "source": [
        "music_recommendations('Wanna Be Close')"
      ],
      "metadata": {
        "colab": {
          "base_uri": "https://localhost:8080/",
          "height": 363
        },
        "id": "3kc4UCMqN5Wo",
        "outputId": "b907728d-3c92-445f-e439-581bddc40e41"
      },
      "execution_count": null,
      "outputs": [
        {
          "output_type": "execute_result",
          "data": {
            "text/html": [
              "<div>\n",
              "<style scoped>\n",
              "    .dataframe tbody tr th:only-of-type {\n",
              "        vertical-align: middle;\n",
              "    }\n",
              "\n",
              "    .dataframe tbody tr th {\n",
              "        vertical-align: top;\n",
              "    }\n",
              "\n",
              "    .dataframe thead th {\n",
              "        text-align: right;\n",
              "    }\n",
              "</style>\n",
              "<table border=\"1\" class=\"dataframe\">\n",
              "  <thead>\n",
              "    <tr style=\"text-align: right;\">\n",
              "      <th></th>\n",
              "      <th>music_name</th>\n",
              "      <th>artist_name</th>\n",
              "      <th>music_id</th>\n",
              "      <th>moods</th>\n",
              "    </tr>\n",
              "  </thead>\n",
              "  <tbody>\n",
              "    <tr>\n",
              "      <th>0</th>\n",
              "      <td>Que Te Ruegue Quien Te Quiera</td>\n",
              "      <td>BandaElRecodo</td>\n",
              "      <td>4AooK5Hh8OZkZ1XjvVGuTY</td>\n",
              "      <td>Relaxed</td>\n",
              "    </tr>\n",
              "    <tr>\n",
              "      <th>1</th>\n",
              "      <td>Que Te Ruegue Quien Te Quiera</td>\n",
              "      <td>BandaElRecodo</td>\n",
              "      <td>6CMUbdue9apkMR5RvIuA3H</td>\n",
              "      <td>Relaxed</td>\n",
              "    </tr>\n",
              "    <tr>\n",
              "      <th>2</th>\n",
              "      <td>La Cumbia del Río</td>\n",
              "      <td>LosPikadientesDeCaborca</td>\n",
              "      <td>1Xrg7xC0pXOEErZ3NwMBia</td>\n",
              "      <td>Relaxed</td>\n",
              "    </tr>\n",
              "    <tr>\n",
              "      <th>3</th>\n",
              "      <td>Yo Soy Tu Maestro</td>\n",
              "      <td>LosTelez</td>\n",
              "      <td>23EzYG5WcweDqh5RX9nFaW</td>\n",
              "      <td>Relaxed</td>\n",
              "    </tr>\n",
              "    <tr>\n",
              "      <th>4</th>\n",
              "      <td>Yo Soy Tu Maestro</td>\n",
              "      <td>LosTelez</td>\n",
              "      <td>760Gu5DFBFjADZq5HvCHrR</td>\n",
              "      <td>Relaxed</td>\n",
              "    </tr>\n",
              "    <tr>\n",
              "      <th>5</th>\n",
              "      <td>Shower the People - 2019 Remaster</td>\n",
              "      <td>JamesTaylor</td>\n",
              "      <td>1Pwcxq35Hl2kqwUVd5XCRg</td>\n",
              "      <td>Relaxed</td>\n",
              "    </tr>\n",
              "    <tr>\n",
              "      <th>6</th>\n",
              "      <td>Ebrio de Amor</td>\n",
              "      <td>ValentínElizalde</td>\n",
              "      <td>2h9eJrxNG298kW8ar3Oci9</td>\n",
              "      <td>Relaxed</td>\n",
              "    </tr>\n",
              "    <tr>\n",
              "      <th>7</th>\n",
              "      <td>De vuelta y vuelta</td>\n",
              "      <td>JarabeDePalo</td>\n",
              "      <td>1laHpjcuexHOKLjjIBbvnP</td>\n",
              "      <td>Relaxed</td>\n",
              "    </tr>\n",
              "    <tr>\n",
              "      <th>8</th>\n",
              "      <td>Spill The Wine</td>\n",
              "      <td>EricBurdon War</td>\n",
              "      <td>2nluoJKvE7rTBN7kve8dnr</td>\n",
              "      <td>Relaxed</td>\n",
              "    </tr>\n",
              "    <tr>\n",
              "      <th>9</th>\n",
              "      <td>Amor de Estudiante</td>\n",
              "      <td>RobertoJordan</td>\n",
              "      <td>0nwKAvbDJeBs5dPH8sdeRO</td>\n",
              "      <td>Relaxed</td>\n",
              "    </tr>\n",
              "  </tbody>\n",
              "</table>\n",
              "</div>"
            ],
            "text/plain": [
              "                          music_name  ...    moods\n",
              "0      Que Te Ruegue Quien Te Quiera  ...  Relaxed\n",
              "1      Que Te Ruegue Quien Te Quiera  ...  Relaxed\n",
              "2                  La Cumbia del Río  ...  Relaxed\n",
              "3                  Yo Soy Tu Maestro  ...  Relaxed\n",
              "4                  Yo Soy Tu Maestro  ...  Relaxed\n",
              "5  Shower the People - 2019 Remaster  ...  Relaxed\n",
              "6                      Ebrio de Amor  ...  Relaxed\n",
              "7                 De vuelta y vuelta  ...  Relaxed\n",
              "8                     Spill The Wine  ...  Relaxed\n",
              "9                 Amor de Estudiante  ...  Relaxed\n",
              "\n",
              "[10 rows x 4 columns]"
            ]
          },
          "metadata": {},
          "execution_count": 12
        }
      ]
    }
  ]
}